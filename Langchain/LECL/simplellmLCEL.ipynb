{
 "cells": [
  {
   "cell_type": "code",
   "execution_count": 1,
   "id": "23e65485",
   "metadata": {},
   "outputs": [
    {
     "data": {
      "text/plain": [
       "'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'"
      ]
     },
     "execution_count": 1,
     "metadata": {},
     "output_type": "execute_result"
    }
   ],
   "source": [
    "import os\n",
    "from dotenv import load_dotenv\n",
    "\n",
    "groq_api_key = os.getenv(\"GROQ_API_KEY\")\n",
    "groq_api_key"
   ]
  },
  {
   "cell_type": "code",
   "execution_count": 2,
   "id": "aaf2aa1b",
   "metadata": {},
   "outputs": [
    {
     "data": {
      "text/plain": [
       "ChatGroq(client=<groq.resources.chat.completions.Completions object at 0x000001F08F8F0A30>, async_client=<groq.resources.chat.completions.AsyncCompletions object at 0x000001F08F8F1EA0>, model_name='Gemma2-9b-It', model_kwargs={}, groq_api_key=SecretStr('**********'))"
      ]
     },
     "execution_count": 2,
     "metadata": {},
     "output_type": "execute_result"
    }
   ],
   "source": [
    "from langchain_groq import ChatGroq\n",
    "model = ChatGroq(model='Gemma2-9b-It',groq_api_key=groq_api_key)\n",
    "model "
   ]
  },
  {
   "cell_type": "code",
   "execution_count": 9,
   "id": "8833be7d",
   "metadata": {},
   "outputs": [],
   "source": [
    "from langchain_core.messages import HumanMessage,SystemMessage\n",
    "\n",
    "messages= [\n",
    "    SystemMessage (content='Translate the following from English to Hinglish'),\n",
    "    HumanMessage(content='Hello , what are you doing')\n",
    "]\n",
    "\n",
    "result=model.invoke(messages)"
   ]
  },
  {
   "cell_type": "code",
   "execution_count": 10,
   "id": "ea750a34",
   "metadata": {},
   "outputs": [
    {
     "data": {
      "text/plain": [
       "AIMessage(content='There are a few ways to say \"Hello, what are you doing?\" in Hinglish:\\n\\n* **\"Hello, kya kar rahe ho?\"** (This is a very common and natural way to say it)\\n\\n* **\"Hey, kya chal raha hai?\"** (More informal, like \"What\\'s up?\")\\n\\n* **\"Salaam, kya kar raha hai?\"** (More formal, using the Arabic greeting \"Salaam\")\\n\\n\\nThe best option depends on the context and your relationship with the person you\\'re talking to. \\n\\n', additional_kwargs={}, response_metadata={'token_usage': {'completion_tokens': 118, 'prompt_tokens': 23, 'total_tokens': 141, 'completion_time': 0.214545455, 'prompt_time': 0.002145855, 'queue_time': 0.247379285, 'total_time': 0.21669131}, 'model_name': 'Gemma2-9b-It', 'system_fingerprint': 'fp_10c08bf97d', 'finish_reason': 'stop', 'logprobs': None}, id='run--fc3d703b-fdd2-4504-9936-6e5bd86b347b-0', usage_metadata={'input_tokens': 23, 'output_tokens': 118, 'total_tokens': 141})"
      ]
     },
     "execution_count": 10,
     "metadata": {},
     "output_type": "execute_result"
    }
   ],
   "source": [
    "result"
   ]
  },
  {
   "cell_type": "code",
   "execution_count": 11,
   "id": "8e1e457b",
   "metadata": {},
   "outputs": [
    {
     "data": {
      "text/plain": [
       "'There are a few ways to say \"Hello, what are you doing?\" in Hinglish:\\n\\n* **\"Hello, kya kar rahe ho?\"** (This is a very common and natural way to say it)\\n\\n* **\"Hey, kya chal raha hai?\"** (More informal, like \"What\\'s up?\")\\n\\n* **\"Salaam, kya kar raha hai?\"** (More formal, using the Arabic greeting \"Salaam\")\\n\\n\\nThe best option depends on the context and your relationship with the person you\\'re talking to. \\n\\n'"
      ]
     },
     "execution_count": 11,
     "metadata": {},
     "output_type": "execute_result"
    }
   ],
   "source": [
    "from langchain_core.output_parsers import StrOutputParser\n",
    "parser = StrOutputParser()\n",
    "parser.invoke(result)"
   ]
  },
  {
   "cell_type": "code",
   "execution_count": 12,
   "id": "fd06dac8",
   "metadata": {},
   "outputs": [
    {
     "data": {
      "text/plain": [
       "'\"Namaste, kya kar raha hai?\" \\n\\nHere\\'s a breakdown:\\n\\n* **Namaste:** This is a respectful greeting in Hindi.\\n* **Kya kar raha hai?** This translates to \"what are you doing?\" \\n\\nYou can use this phrase in a casual setting with friends and family.\\n'"
      ]
     },
     "execution_count": 12,
     "metadata": {},
     "output_type": "execute_result"
    }
   ],
   "source": [
    "chain = model|parser\n",
    "\n",
    "chain.invoke(messages)"
   ]
  },
  {
   "cell_type": "code",
   "execution_count": 13,
   "id": "32497a85",
   "metadata": {},
   "outputs": [],
   "source": [
    "from langchain_core.prompts import ChatPromptTemplate\n",
    "\n",
    "generic_template = \"Translate the following into {language}:\"\n",
    "\n",
    "prompt = ChatPromptTemplate.from_messages(\n",
    "    [('system',generic_template),('user','{text}')]\n",
    ")\n",
    "\n"
   ]
  },
  {
   "cell_type": "code",
   "execution_count": 14,
   "id": "864cf4b3",
   "metadata": {},
   "outputs": [],
   "source": [
    "result = prompt.invoke({'language':'french',\"text\":'food'})"
   ]
  },
  {
   "cell_type": "code",
   "execution_count": 15,
   "id": "207f0736",
   "metadata": {},
   "outputs": [
    {
     "data": {
      "text/plain": [
       "[SystemMessage(content='Translate the following into french:', additional_kwargs={}, response_metadata={}),\n",
       " HumanMessage(content='food', additional_kwargs={}, response_metadata={})]"
      ]
     },
     "execution_count": 15,
     "metadata": {},
     "output_type": "execute_result"
    }
   ],
   "source": [
    "result.to_messages()"
   ]
  },
  {
   "cell_type": "code",
   "execution_count": 19,
   "id": "0930ff9b",
   "metadata": {},
   "outputs": [
    {
     "data": {
      "text/plain": [
       "'pain 🥖  \\n'"
      ]
     },
     "execution_count": 19,
     "metadata": {},
     "output_type": "execute_result"
    }
   ],
   "source": [
    "chain = prompt|model|parser\n",
    "\n",
    "chain.invoke({'language':'french','text':'bread'})"
   ]
  },
  {
   "cell_type": "code",
   "execution_count": null,
   "id": "693e562e",
   "metadata": {},
   "outputs": [],
   "source": []
  }
 ],
 "metadata": {
  "kernelspec": {
   "display_name": "Python 3",
   "language": "python",
   "name": "python3"
  },
  "language_info": {
   "codemirror_mode": {
    "name": "ipython",
    "version": 3
   },
   "file_extension": ".py",
   "mimetype": "text/x-python",
   "name": "python",
   "nbconvert_exporter": "python",
   "pygments_lexer": "ipython3",
   "version": "3.10.0"
  }
 },
 "nbformat": 4,
 "nbformat_minor": 5
}
